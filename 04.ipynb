{
 "cells": [
  {
   "cell_type": "markdown",
   "metadata": {},
   "source": [
    "# Advent of Code 2021\n",
    "\n",
    "https://adventofcode.com/2021/day/4"
   ]
  },
  {
   "cell_type": "code",
   "execution_count": 74,
   "metadata": {},
   "outputs": [],
   "source": [
    "import pandas as pd"
   ]
  },
  {
   "cell_type": "code",
   "execution_count": 75,
   "metadata": {},
   "outputs": [
    {
     "data": {
      "text/plain": [
       "array([72, 99, 88,  8, 59, 61, 96, 92,  2, 70,  1, 32, 18, 10, 95, 33, 20,\n",
       "       31, 66, 43, 26, 24, 91, 44, 11, 15, 48, 90, 27, 29, 14, 68,  3, 50,\n",
       "       69, 74, 54,  4, 16, 55, 64, 12, 73, 80, 58, 83,  6, 87, 30, 41, 25,\n",
       "       39, 93, 60,  9, 81, 63, 75, 46, 19, 78, 51, 21, 28, 94,  7, 17, 42,\n",
       "       53, 13, 97, 98, 34, 76, 89, 23, 86, 52, 79, 85, 67, 84, 47, 22, 37,\n",
       "       65, 71, 49, 82, 40, 77, 36, 62,  0, 56, 45, 57, 38, 35,  5])"
      ]
     },
     "execution_count": 75,
     "metadata": {},
     "output_type": "execute_result"
    }
   ],
   "source": [
    "df = pd.read_csv ('inputs/04_1.csv',sep=',',header=None)\n",
    "numbers = df.values[0]\n",
    "numbers"
   ]
  },
  {
   "cell_type": "code",
   "execution_count": 76,
   "metadata": {},
   "outputs": [
    {
     "data": {
      "text/html": [
       "<div>\n",
       "<style scoped>\n",
       "    .dataframe tbody tr th:only-of-type {\n",
       "        vertical-align: middle;\n",
       "    }\n",
       "\n",
       "    .dataframe tbody tr th {\n",
       "        vertical-align: top;\n",
       "    }\n",
       "\n",
       "    .dataframe thead th {\n",
       "        text-align: right;\n",
       "    }\n",
       "</style>\n",
       "<table border=\"1\" class=\"dataframe\">\n",
       "  <thead>\n",
       "    <tr style=\"text-align: right;\">\n",
       "      <th></th>\n",
       "      <th>0</th>\n",
       "      <th>1</th>\n",
       "      <th>2</th>\n",
       "      <th>3</th>\n",
       "      <th>4</th>\n",
       "    </tr>\n",
       "  </thead>\n",
       "  <tbody>\n",
       "    <tr>\n",
       "      <th>0</th>\n",
       "      <td>91</td>\n",
       "      <td>60</td>\n",
       "      <td>70</td>\n",
       "      <td>64</td>\n",
       "      <td>83</td>\n",
       "    </tr>\n",
       "    <tr>\n",
       "      <th>1</th>\n",
       "      <td>35</td>\n",
       "      <td>41</td>\n",
       "      <td>79</td>\n",
       "      <td>55</td>\n",
       "      <td>31</td>\n",
       "    </tr>\n",
       "    <tr>\n",
       "      <th>2</th>\n",
       "      <td>7</td>\n",
       "      <td>58</td>\n",
       "      <td>25</td>\n",
       "      <td>3</td>\n",
       "      <td>47</td>\n",
       "    </tr>\n",
       "    <tr>\n",
       "      <th>3</th>\n",
       "      <td>2</td>\n",
       "      <td>23</td>\n",
       "      <td>69</td>\n",
       "      <td>59</td>\n",
       "      <td>21</td>\n",
       "    </tr>\n",
       "    <tr>\n",
       "      <th>4</th>\n",
       "      <td>11</td>\n",
       "      <td>22</td>\n",
       "      <td>8</td>\n",
       "      <td>87</td>\n",
       "      <td>90</td>\n",
       "    </tr>\n",
       "    <tr>\n",
       "      <th>5</th>\n",
       "      <td>77</td>\n",
       "      <td>95</td>\n",
       "      <td>19</td>\n",
       "      <td>21</td>\n",
       "      <td>76</td>\n",
       "    </tr>\n",
       "    <tr>\n",
       "      <th>6</th>\n",
       "      <td>93</td>\n",
       "      <td>92</td>\n",
       "      <td>62</td>\n",
       "      <td>35</td>\n",
       "      <td>3</td>\n",
       "    </tr>\n",
       "    <tr>\n",
       "      <th>7</th>\n",
       "      <td>4</td>\n",
       "      <td>29</td>\n",
       "      <td>7</td>\n",
       "      <td>41</td>\n",
       "      <td>45</td>\n",
       "    </tr>\n",
       "    <tr>\n",
       "      <th>8</th>\n",
       "      <td>80</td>\n",
       "      <td>50</td>\n",
       "      <td>83</td>\n",
       "      <td>61</td>\n",
       "      <td>64</td>\n",
       "    </tr>\n",
       "    <tr>\n",
       "      <th>9</th>\n",
       "      <td>39</td>\n",
       "      <td>32</td>\n",
       "      <td>91</td>\n",
       "      <td>56</td>\n",
       "      <td>48</td>\n",
       "    </tr>\n",
       "  </tbody>\n",
       "</table>\n",
       "</div>"
      ],
      "text/plain": [
       "    0   1   2   3   4\n",
       "0  91  60  70  64  83\n",
       "1  35  41  79  55  31\n",
       "2   7  58  25   3  47\n",
       "3   2  23  69  59  21\n",
       "4  11  22   8  87  90\n",
       "5  77  95  19  21  76\n",
       "6  93  92  62  35   3\n",
       "7   4  29   7  41  45\n",
       "8  80  50  83  61  64\n",
       "9  39  32  91  56  48"
      ]
     },
     "execution_count": 76,
     "metadata": {},
     "output_type": "execute_result"
    }
   ],
   "source": [
    "df = pd.read_csv ('inputs/04_2.csv',sep=',',header=None)\n",
    "df = df.apply(lambda x: x.str.replace(\"  \", \" \")).copy()\n",
    "df = df.apply(lambda x: x.str.lstrip()).copy()\n",
    "df = df[0].str.split(\" \",expand=True).copy()\n",
    "\n",
    "df = df.astype(\"int32\")\n",
    "df.head(10)"
   ]
  },
  {
   "cell_type": "code",
   "execution_count": 130,
   "metadata": {},
   "outputs": [],
   "source": [
    "def get_diagonal_values(df):\n",
    "    dftemp1 = df.copy()\n",
    "    dftemp2 = df.copy()\n",
    "    for i in df.columns:\n",
    "        dftemp1[i] = dftemp1[i].shift(periods=-i)\n",
    "        dftemp2[i] = dftemp2[i].shift(periods=-len(df.columns)+1+i)\n",
    "    return pd.concat([dftemp1.iloc[[0]], dftemp2.loc[[0]]])\n",
    "\n",
    "def check_win(df):\n",
    "    df = df.reset_index(drop=True)\n",
    "    return (-len(df.columns) in df.sum(axis=0).values) or (-len(df.columns) in df.sum(axis=0).values) or (-len(df.columns) in get_diagonal_values(df).sum(axis=1).values)"
   ]
  },
  {
   "cell_type": "markdown",
   "metadata": {},
   "source": [
    "## 04/01 + 04/02"
   ]
  },
  {
   "cell_type": "code",
   "execution_count": 119,
   "metadata": {},
   "outputs": [],
   "source": [
    "df01 = df.copy()\n",
    "\n",
    "wins = {}\n",
    "\n",
    "for n in numbers:\n",
    "    for col in df01.columns:\n",
    "        df01.loc[df01[col] == n, col] = -1\n",
    "    for i in range(0,int(df01[0].count() / 5)):\n",
    "        if i not in wins:\n",
    "            dftemp = df01.iloc[range(0+len(df01.columns)*i,len(df01.columns)+len(df01.columns)*i)].copy()\n",
    "            if check_win(dftemp):\n",
    "                for col in dftemp.columns:\n",
    "                    dftemp.loc[dftemp[col] == -1, col] = 0\n",
    "                wins[i]=dftemp.sum().sum() * n"
   ]
  },
  {
   "cell_type": "code",
   "execution_count": null,
   "metadata": {},
   "outputs": [],
   "source": [
    "\"{} {}\".format(list(wins.keys())[0],list(wins.values())[0])"
   ]
  },
  {
   "cell_type": "code",
   "execution_count": null,
   "metadata": {},
   "outputs": [],
   "source": [
    "\"{} {}\".format(list(wins.keys())[-1],list(wins.values())[-1])"
   ]
  },
  {
   "cell_type": "code",
   "execution_count": null,
   "metadata": {},
   "outputs": [],
   "source": [
    "\"{} {}\".format(list(wins.keys())[-2],list(wins.values())[-2])"
   ]
  }
 ],
 "metadata": {
  "interpreter": {
   "hash": "b5d605eaa850fc64d5304f76796f9d1f4c726fab5bebefc4b1f25fe12ae01343"
  },
  "kernelspec": {
   "display_name": "Python 3.8.10 64-bit ('.venv': venv)",
   "name": "python3"
  },
  "language_info": {
   "codemirror_mode": {
    "name": "ipython",
    "version": 3
   },
   "file_extension": ".py",
   "mimetype": "text/x-python",
   "name": "python",
   "nbconvert_exporter": "python",
   "pygments_lexer": "ipython3",
   "version": "3.8.10"
  },
  "orig_nbformat": 4
 },
 "nbformat": 4,
 "nbformat_minor": 2
}
