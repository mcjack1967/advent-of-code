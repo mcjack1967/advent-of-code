{
 "cells": [
  {
   "cell_type": "markdown",
   "source": [
    "# Advent of Code 2021\n",
    "\n",
    "https://adventofcode.com/2021/day/7"
   ],
   "metadata": {}
  },
  {
   "cell_type": "code",
   "execution_count": 1,
   "source": [
    "import pandas as pd"
   ],
   "outputs": [],
   "metadata": {}
  },
  {
   "cell_type": "code",
   "execution_count": 2,
   "source": [
    "df = pd.read_csv ('inputs/07.csv',sep=',',header=None)\n",
    "df = df.T\n",
    "df = df.rename(columns={0:\"position\"})\n",
    "df = df.groupby(\"position\").agg(count=(\"position\",\"size\")).reset_index().copy()\n",
    "df.head(10)\n",
    "\n"
   ],
   "outputs": [
    {
     "output_type": "execute_result",
     "data": {
      "text/html": [
       "<div>\n",
       "<style scoped>\n",
       "    .dataframe tbody tr th:only-of-type {\n",
       "        vertical-align: middle;\n",
       "    }\n",
       "\n",
       "    .dataframe tbody tr th {\n",
       "        vertical-align: top;\n",
       "    }\n",
       "\n",
       "    .dataframe thead th {\n",
       "        text-align: right;\n",
       "    }\n",
       "</style>\n",
       "<table border=\"1\" class=\"dataframe\">\n",
       "  <thead>\n",
       "    <tr style=\"text-align: right;\">\n",
       "      <th></th>\n",
       "      <th>position</th>\n",
       "      <th>count</th>\n",
       "    </tr>\n",
       "  </thead>\n",
       "  <tbody>\n",
       "    <tr>\n",
       "      <th>0</th>\n",
       "      <td>0</td>\n",
       "      <td>3</td>\n",
       "    </tr>\n",
       "    <tr>\n",
       "      <th>1</th>\n",
       "      <td>1</td>\n",
       "      <td>6</td>\n",
       "    </tr>\n",
       "    <tr>\n",
       "      <th>2</th>\n",
       "      <td>2</td>\n",
       "      <td>3</td>\n",
       "    </tr>\n",
       "    <tr>\n",
       "      <th>3</th>\n",
       "      <td>3</td>\n",
       "      <td>6</td>\n",
       "    </tr>\n",
       "    <tr>\n",
       "      <th>4</th>\n",
       "      <td>4</td>\n",
       "      <td>5</td>\n",
       "    </tr>\n",
       "    <tr>\n",
       "      <th>5</th>\n",
       "      <td>5</td>\n",
       "      <td>2</td>\n",
       "    </tr>\n",
       "    <tr>\n",
       "      <th>6</th>\n",
       "      <td>6</td>\n",
       "      <td>2</td>\n",
       "    </tr>\n",
       "    <tr>\n",
       "      <th>7</th>\n",
       "      <td>7</td>\n",
       "      <td>5</td>\n",
       "    </tr>\n",
       "    <tr>\n",
       "      <th>8</th>\n",
       "      <td>8</td>\n",
       "      <td>3</td>\n",
       "    </tr>\n",
       "    <tr>\n",
       "      <th>9</th>\n",
       "      <td>10</td>\n",
       "      <td>2</td>\n",
       "    </tr>\n",
       "  </tbody>\n",
       "</table>\n",
       "</div>"
      ],
      "text/plain": [
       "   position  count\n",
       "0         0      3\n",
       "1         1      6\n",
       "2         2      3\n",
       "3         3      6\n",
       "4         4      5\n",
       "5         5      2\n",
       "6         6      2\n",
       "7         7      5\n",
       "8         8      3\n",
       "9        10      2"
      ]
     },
     "metadata": {},
     "execution_count": 2
    }
   ],
   "metadata": {}
  },
  {
   "cell_type": "code",
   "execution_count": 3,
   "source": [
    "# add missing positions\n",
    "for i in range(0,df[\"position\"].max()):\n",
    "    if not i in list(df[\"position\"].values):\n",
    "        df = df.append({ \"position\": i, \"count\" : 0},ignore_index=True)\n",
    "df = df.sort_values(by=\"position\").reset_index(drop=True)"
   ],
   "outputs": [],
   "metadata": {}
  },
  {
   "cell_type": "markdown",
   "source": [
    "## 07/01"
   ],
   "metadata": {}
  },
  {
   "cell_type": "code",
   "execution_count": 4,
   "source": [
    "min_costs = 999999999999999999\n",
    "position = -1\n",
    "for i in range(0,df[\"position\"].count()):\n",
    "    df[\"costs\"] = abs(df.iloc[i][\"position\"] - df[\"position\"]) * df[\"count\"]\n",
    "    if min_costs > df[\"costs\"].sum():\n",
    "        position = i\n",
    "        min_costs = df[\"costs\"].sum()\n",
    "    #print(position,min_costs)"
   ],
   "outputs": [],
   "metadata": {}
  },
  {
   "cell_type": "code",
   "execution_count": null,
   "source": [
    "df[\"costs\"] = abs(df.iloc[position][\"position\"] - df[\"position\"]) * df[\"count\"]\n",
    "\n",
    "\"Position: {}, Costs: {}\".format(position, df[\"costs\"].sum())\n"
   ],
   "outputs": [],
   "metadata": {}
  },
  {
   "cell_type": "markdown",
   "source": [
    "## 07/02"
   ],
   "metadata": {}
  },
  {
   "cell_type": "code",
   "execution_count": 6,
   "source": [
    "def sum_range(df):\n",
    "    list = []\n",
    "    for x in df:\n",
    "        list.append(sum(range(1,x+1)))\n",
    "    return pd.Series(list)\n",
    "        \n",
    "\n",
    "min_costs = 999999999999999999999999999999\n",
    "position = -1\n",
    "for i in range(0,df[\"position\"].count()):\n",
    "    df[\"costs2\"] = sum_range(abs(df.iloc[i][\"position\"] - df[\"position\"])) * df[\"count\"]\n",
    "    if min_costs > df[\"costs2\"].sum():\n",
    "        position = i\n",
    "        min_costs = df[\"costs2\"].sum()\n",
    "    #print (i,min_costs)\n",
    "    \n",
    "\n",
    "df[\"costs2\"] = sum_range(abs(df.iloc[position][\"position\"] - df[\"position\"])) * df[\"count\"]"
   ],
   "outputs": [],
   "metadata": {}
  },
  {
   "cell_type": "code",
   "execution_count": null,
   "source": [
    "\"Position: {}, Costs: {}\".format(position, df[\"costs2\"].sum())"
   ],
   "outputs": [],
   "metadata": {}
  }
 ],
 "metadata": {
  "interpreter": {
   "hash": "37728d427ef29c9ffdc7ae55243d5c2c9ad0e5b63c4d29b956a2ed648ad57035"
  },
  "kernelspec": {
   "name": "python3",
   "display_name": "Python 3.8.10 64-bit ('.venv': venv)"
  },
  "language_info": {
   "codemirror_mode": {
    "name": "ipython",
    "version": 3
   },
   "file_extension": ".py",
   "mimetype": "text/x-python",
   "name": "python",
   "nbconvert_exporter": "python",
   "pygments_lexer": "ipython3",
   "version": "3.8.10"
  },
  "orig_nbformat": 4
 },
 "nbformat": 4,
 "nbformat_minor": 2
}