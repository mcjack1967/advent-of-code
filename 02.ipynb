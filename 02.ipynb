{
 "cells": [
  {
   "cell_type": "markdown",
   "metadata": {},
   "source": [
    "# Advent of Code 2021\n",
    "\n",
    "https://adventofcode.com/2021/day/2"
   ]
  },
  {
   "cell_type": "code",
   "execution_count": 13,
   "metadata": {},
   "outputs": [],
   "source": [
    "import pandas as pd"
   ]
  },
  {
   "cell_type": "code",
   "execution_count": 56,
   "metadata": {},
   "outputs": [
    {
     "data": {
      "text/html": [
       "<div>\n",
       "<style scoped>\n",
       "    .dataframe tbody tr th:only-of-type {\n",
       "        vertical-align: middle;\n",
       "    }\n",
       "\n",
       "    .dataframe tbody tr th {\n",
       "        vertical-align: top;\n",
       "    }\n",
       "\n",
       "    .dataframe thead th {\n",
       "        text-align: right;\n",
       "    }\n",
       "</style>\n",
       "<table border=\"1\" class=\"dataframe\">\n",
       "  <thead>\n",
       "    <tr style=\"text-align: right;\">\n",
       "      <th></th>\n",
       "      <th>direction</th>\n",
       "      <th>value</th>\n",
       "    </tr>\n",
       "  </thead>\n",
       "  <tbody>\n",
       "    <tr>\n",
       "      <th>410</th>\n",
       "      <td>down</td>\n",
       "      <td>1</td>\n",
       "    </tr>\n",
       "    <tr>\n",
       "      <th>254</th>\n",
       "      <td>down</td>\n",
       "      <td>9</td>\n",
       "    </tr>\n",
       "    <tr>\n",
       "      <th>234</th>\n",
       "      <td>up</td>\n",
       "      <td>2</td>\n",
       "    </tr>\n",
       "    <tr>\n",
       "      <th>468</th>\n",
       "      <td>down</td>\n",
       "      <td>4</td>\n",
       "    </tr>\n",
       "    <tr>\n",
       "      <th>292</th>\n",
       "      <td>forward</td>\n",
       "      <td>5</td>\n",
       "    </tr>\n",
       "  </tbody>\n",
       "</table>\n",
       "</div>"
      ],
      "text/plain": [
       "    direction  value\n",
       "410      down      1\n",
       "254      down      9\n",
       "234        up      2\n",
       "468      down      4\n",
       "292   forward      5"
      ]
     },
     "execution_count": 56,
     "metadata": {},
     "output_type": "execute_result"
    }
   ],
   "source": [
    "df = pd.read_csv ('inputs/02.csv',sep=' ')\n",
    "df.sample(5)"
   ]
  },
  {
   "cell_type": "markdown",
   "metadata": {},
   "source": [
    "## 02/01"
   ]
  },
  {
   "cell_type": "code",
   "execution_count": null,
   "metadata": {},
   "outputs": [],
   "source": [
    "df01 = df.copy()\n",
    "\n",
    "df01.loc[df01[\"direction\"]==\"up\",\"value\"] = -df01[\"value\"]\n",
    "df01.loc[df01[\"direction\"]==\"forward\",\"group\"] = \"horizontal\"\n",
    "df01.loc[df01[\"group\"].isna(),\"group\"] = \"depth\"\n",
    "\n",
    "df01 = df01.groupby(\"group\", as_index=False).sum()\n",
    "\n",
    "df01[df01[\"group\"]==\"depth\"].value[0] * df01[df01[\"group\"]==\"horizontal\"].value[1]"
   ]
  },
  {
   "cell_type": "markdown",
   "metadata": {},
   "source": [
    "## 02/02"
   ]
  },
  {
   "cell_type": "code",
   "execution_count": null,
   "metadata": {},
   "outputs": [],
   "source": [
    "df02 = df.copy()\n",
    "\n",
    "df02.loc[df02[\"direction\"]==\"up\",\"value\"] = -df02[\"value\"]\n",
    "df02.loc[df02[\"direction\"]==\"forward\",\"horizontal\"] = df02[\"value\"]\n",
    "df02.loc[df02[\"direction\"]!=\"forward\",\"aim\"] = df02[\"value\"]\n",
    "df02 = df02.fillna(0)\n",
    "df02['cum_horizontal'] = df02[\"horizontal\"].cumsum()\n",
    "df02['cum_aim'] = df02[\"aim\"].cumsum()\n",
    "df02['depth'] = df02['horizontal'] * df02['cum_aim']\n",
    "\n",
    "df02 = df02[[\"horizontal\",\"depth\"]].sum()\n",
    "df02[\"horizontal\"]*df02[\"depth\"]"
   ]
  }
 ],
 "metadata": {
  "interpreter": {
   "hash": "b5d605eaa850fc64d5304f76796f9d1f4c726fab5bebefc4b1f25fe12ae01343"
  },
  "kernelspec": {
   "display_name": "Python 3.8.10 64-bit ('.venv': venv)",
   "name": "python3"
  },
  "language_info": {
   "codemirror_mode": {
    "name": "ipython",
    "version": 3
   },
   "file_extension": ".py",
   "mimetype": "text/x-python",
   "name": "python",
   "nbconvert_exporter": "python",
   "pygments_lexer": "ipython3",
   "version": "3.8.10"
  },
  "orig_nbformat": 4
 },
 "nbformat": 4,
 "nbformat_minor": 2
}
