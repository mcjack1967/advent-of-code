{
 "cells": [
  {
   "cell_type": "code",
   "execution_count": 1,
   "metadata": {},
   "outputs": [],
   "source": [
    "import pandas as pd\n",
    "import numpy as np"
   ]
  },
  {
   "cell_type": "code",
   "execution_count": 8,
   "metadata": {},
   "outputs": [],
   "source": [
    "df = pd.read_csv ('inputs/01.csv',sep=',')\n",
    "list = df['sonars'].values"
   ]
  },
  {
   "cell_type": "code",
   "execution_count": 21,
   "metadata": {},
   "outputs": [],
   "source": [
    "increase = 0\n",
    "decrease = 0\n",
    "\n",
    "for i in range(1,len(list)): # first value has no previous one\n",
    "    if list[i] > list[i-1]:\n",
    "        increase = increase + 1\n",
    "    else:\n",
    "        decrease = decrease + 1"
   ]
  },
  {
   "cell_type": "code",
   "execution_count": 22,
   "metadata": {},
   "outputs": [
    {
     "name": "stdout",
     "output_type": "stream",
     "text": [
      "Increase: 1139, Deacrease: 860\n"
     ]
    }
   ],
   "source": [
    "print(\"Increase: {}, Deacrease: {}\".format(increase,decrease))"
   ]
  }
 ],
 "metadata": {
  "interpreter": {
   "hash": "b5d605eaa850fc64d5304f76796f9d1f4c726fab5bebefc4b1f25fe12ae01343"
  },
  "kernelspec": {
   "display_name": "Python 3.8.10 64-bit ('.venv': venv)",
   "name": "python3"
  },
  "language_info": {
   "codemirror_mode": {
    "name": "ipython",
    "version": 3
   },
   "file_extension": ".py",
   "mimetype": "text/x-python",
   "name": "python",
   "nbconvert_exporter": "python",
   "pygments_lexer": "ipython3",
   "version": "3.8.10"
  },
  "orig_nbformat": 4
 },
 "nbformat": 4,
 "nbformat_minor": 2
}
