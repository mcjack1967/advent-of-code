{
 "cells": [
  {
   "cell_type": "markdown",
   "metadata": {},
   "source": [
    "# Advent of Code 2021\n",
    "\n",
    "https://adventofcode.com/2021/day/5"
   ]
  },
  {
   "cell_type": "code",
   "execution_count": 94,
   "metadata": {},
   "outputs": [],
   "source": [
    "import pandas as pd\n",
    "import numpy as np"
   ]
  },
  {
   "cell_type": "code",
   "execution_count": 95,
   "metadata": {},
   "outputs": [
    {
     "data": {
      "text/html": [
       "<div>\n",
       "<style scoped>\n",
       "    .dataframe tbody tr th:only-of-type {\n",
       "        vertical-align: middle;\n",
       "    }\n",
       "\n",
       "    .dataframe tbody tr th {\n",
       "        vertical-align: top;\n",
       "    }\n",
       "\n",
       "    .dataframe thead th {\n",
       "        text-align: right;\n",
       "    }\n",
       "</style>\n",
       "<table border=\"1\" class=\"dataframe\">\n",
       "  <thead>\n",
       "    <tr style=\"text-align: right;\">\n",
       "      <th></th>\n",
       "      <th>x1</th>\n",
       "      <th>y1</th>\n",
       "      <th>x2</th>\n",
       "      <th>y2</th>\n",
       "    </tr>\n",
       "  </thead>\n",
       "  <tbody>\n",
       "    <tr>\n",
       "      <th>0</th>\n",
       "      <td>309</td>\n",
       "      <td>347</td>\n",
       "      <td>309</td>\n",
       "      <td>464</td>\n",
       "    </tr>\n",
       "    <tr>\n",
       "      <th>1</th>\n",
       "      <td>425</td>\n",
       "      <td>687</td>\n",
       "      <td>300</td>\n",
       "      <td>687</td>\n",
       "    </tr>\n",
       "    <tr>\n",
       "      <th>2</th>\n",
       "      <td>226</td>\n",
       "      <td>766</td>\n",
       "      <td>885</td>\n",
       "      <td>107</td>\n",
       "    </tr>\n",
       "    <tr>\n",
       "      <th>3</th>\n",
       "      <td>681</td>\n",
       "      <td>618</td>\n",
       "      <td>921</td>\n",
       "      <td>378</td>\n",
       "    </tr>\n",
       "    <tr>\n",
       "      <th>4</th>\n",
       "      <td>968</td>\n",
       "      <td>54</td>\n",
       "      <td>38</td>\n",
       "      <td>984</td>\n",
       "    </tr>\n",
       "  </tbody>\n",
       "</table>\n",
       "</div>"
      ],
      "text/plain": [
       "    x1   y1   x2   y2\n",
       "0  309  347  309  464\n",
       "1  425  687  300  687\n",
       "2  226  766  885  107\n",
       "3  681  618  921  378\n",
       "4  968   54   38  984"
      ]
     },
     "execution_count": 95,
     "metadata": {},
     "output_type": "execute_result"
    }
   ],
   "source": [
    "df = pd.read_csv ('inputs/05.csv',sep=' ',header=None)\n",
    "df = pd.merge(df[0].str.split(\",\",expand=True), df[2].str.split(\",\",expand=True), left_index=True, right_index=True)\n",
    "df = df.rename(columns={\"0_x\":\"x1\", \"0_y\":\"x2\", \"1_x\":\"y1\", \"1_y\":\"y2\"})\n",
    "df = df.astype(\"int32\")\n",
    "df.head(5)"
   ]
  },
  {
   "cell_type": "code",
   "execution_count": 96,
   "metadata": {},
   "outputs": [],
   "source": [
    "max_value = int(df.max().max()) + 1\n",
    "df01 = pd.DataFrame(np.ones((0, max_value)))\n",
    "for i in range(0,max_value):\n",
    "    df01 = df01.append(pd.Series(dtype=\"int32\"),ignore_index=True)\n",
    "df01 = df01.fillna(0)"
   ]
  },
  {
   "cell_type": "code",
   "execution_count": 97,
   "metadata": {},
   "outputs": [],
   "source": [
    "df02 = df01.copy() # task 1\n",
    "df03 = df01.copy() # task 2\n",
    "\n",
    "for i in range(len(df.index)):\n",
    "    x1= df.iloc[[i]][\"x1\"].values[0]\n",
    "    y1 = df.iloc[[i]][\"y1\"].values[0]\n",
    "    x2= df.iloc[[i]][\"x2\"].values[0]\n",
    "    y2 = df.iloc[[i]][\"y2\"].values[0]\n",
    "\n",
    "    if x1 == x2 or y1 == y2:\n",
    "        for x in range(min([x1,x2]),max([x1,x2])+1):\n",
    "            for y in range(min([y1,y2]),max([y1,y2])+1):\n",
    "                df02.at[y, x] = df02.at[y, x] +1\n",
    "                df03.at[y, x] = df03.at[y, x] +1\n",
    "    else:\n",
    "        if x1 > x2:\n",
    "            tmp = y1\n",
    "            y1 = y2\n",
    "            y2 = tmp\n",
    "        y = y1\n",
    "        \n",
    "        y_direction = -1 if (y1 > y2) else 1\n",
    "\n",
    "        for x in range(min([x1,x2]),max([x1,x2])+1):\n",
    "            df03.at[y, x] = df03.at[y, x] +1\n",
    "            y = y + y_direction"
   ]
  },
  {
   "cell_type": "code",
   "execution_count": null,
   "metadata": {},
   "outputs": [],
   "source": [
    "df02.sample(5)"
   ]
  },
  {
   "cell_type": "code",
   "execution_count": null,
   "metadata": {},
   "outputs": [],
   "source": [
    "df03.sample(5)"
   ]
  },
  {
   "cell_type": "code",
   "execution_count": 103,
   "metadata": {},
   "outputs": [],
   "source": [
    "def count_overlaps(df):\n",
    "    max_overlap = int(df.max().max())\n",
    "\n",
    "    cnt = {}\n",
    "    for i in range(max_overlap+1):\n",
    "        cnt[i] = 0\n",
    "    for i in range(1,max_value):\n",
    "        temp = df.groupby(i).count().reset_index(drop=True)[0].copy()\n",
    "        for j in range(len(temp)):\n",
    "            cnt[j] = cnt[j] + temp[j]\n",
    "    return cnt"
   ]
  },
  {
   "cell_type": "code",
   "execution_count": null,
   "metadata": {},
   "outputs": [],
   "source": [
    "cnt = count_overlaps(df02)\n",
    "result = 0\n",
    "for i in range(2,len(cnt)):\n",
    "    result += cnt[i]\n",
    "\n",
    "print(cnt, result)"
   ]
  },
  {
   "cell_type": "code",
   "execution_count": null,
   "metadata": {},
   "outputs": [],
   "source": [
    "cnt = count_overlaps(df03)\n",
    "result = 0\n",
    "for i in range(2,len(cnt)):\n",
    "    result += cnt[i]\n",
    "\n",
    "print(cnt, result)"
   ]
  }
 ],
 "metadata": {
  "interpreter": {
   "hash": "b5d605eaa850fc64d5304f76796f9d1f4c726fab5bebefc4b1f25fe12ae01343"
  },
  "kernelspec": {
   "display_name": "Python 3.8.10 64-bit ('.venv': venv)",
   "name": "python3"
  },
  "language_info": {
   "codemirror_mode": {
    "name": "ipython",
    "version": 3
   },
   "file_extension": ".py",
   "mimetype": "text/x-python",
   "name": "python",
   "nbconvert_exporter": "python",
   "pygments_lexer": "ipython3",
   "version": "3.8.10"
  },
  "orig_nbformat": 4
 },
 "nbformat": 4,
 "nbformat_minor": 2
}
